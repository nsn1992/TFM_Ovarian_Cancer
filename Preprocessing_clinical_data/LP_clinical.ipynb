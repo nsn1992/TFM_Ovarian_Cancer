{
 "cells": [
  {
   "cell_type": "code",
   "execution_count": 8,
   "id": "77ce5e1a-16dc-4f28-a09b-fba2d54141b6",
   "metadata": {},
   "outputs": [
    {
     "name": "stdout",
     "output_type": "stream",
     "text": [
      "  CÓDIGO  FIGOL  TUMOR   AGEY   NEU  LINF    NL  preCa125  postsCA125  \\\n",
      "0   LP06      1      1  61.59  9.31  2.76  3.37       NaN         6.4   \n",
      "1   LP13      1      0  72.91  4.63  1.61  2.88    1644.0       327.0   \n",
      "2   LP19      1      1  67.76   NaN   NaN   NaN       NaN         NaN   \n",
      "3   LP22      1      1  37.84  8.78  1.48  5.93     423.0        11.0   \n",
      "4   LP25      1      0  38.69  8.13  1.75  4.65      60.0        23.0   \n",
      "\n",
      "   postcCA125  ...  CA125r5 PATTERNr6 DATEr6  PFS6  ILP6 TREATMENTr6  \\\n",
      "0         3.0  ...      NaN       NaN    NaT   NaN   NaN         NaN   \n",
      "1        32.5  ...      NaN       NaN    NaT   NaN   NaN         NaN   \n",
      "2         NaN  ...      NaN       NaN    NaT   NaN   NaN         NaN   \n",
      "3         2.0  ...      NaN       NaN    NaT   NaN   NaN         NaN   \n",
      "4        11.0  ...      NaN       NaN    NaT   NaN   NaN         NaN   \n",
      "\n",
      "   RELAPSEc6  SENSITIVITYp6  CA125rn6  CA125r6  \n",
      "0        NaN            NaN       NaN      NaN  \n",
      "1        NaN            NaN       NaN      NaN  \n",
      "2        NaN            NaN       NaN      NaN  \n",
      "3        NaN            NaN       NaN      NaN  \n",
      "4        NaN            NaN       NaN      NaN  \n",
      "\n",
      "[5 rows x 171 columns]\n",
      "<class 'pandas.core.frame.DataFrame'>\n",
      "The length/number of rows of the BDA dataframe is: 35\n"
     ]
    },
    {
     "name": "stderr",
     "output_type": "stream",
     "text": [
      "/home/vant/miniforge3/lib/python3.10/site-packages/openpyxl/worksheet/_reader.py:329: UserWarning: Unknown extension is not supported and will be removed\n",
      "  warn(msg)\n"
     ]
    }
   ],
   "source": [
    "### Preprocess of La Paz patient records #######################\n",
    "\n",
    "# I import the modules I need\n",
    "import pandas as pd\n",
    "import numpy as np\n",
    "# Read the first excel with Advanced tumours (BDA)\n",
    "bda_path='/home/vant/TFM/clinical data/La Paz_LP_series/BDA.xlsx'\n",
    "bda=pd.read_excel(bda_path)\n",
    "print(bda.head())\n",
    "print(type(bda))\n",
    "print(\"The length/number of rows of the BDA dataframe is:\", len(bda)) # 35 if only counts the samples data and no the headers"
   ]
  },
  {
   "cell_type": "code",
   "execution_count": 9,
   "id": "47539945-2723-4c6b-ace0-818eb5f03dfe",
   "metadata": {},
   "outputs": [
    {
     "name": "stdout",
     "output_type": "stream",
     "text": [
      "  CÓDIGO  FIGOL  TUMOR   AGEY    NEU  LINF    NL  preCa125  postsCA125  \\\n",
      "0   LP01      0      0  49.59   4.00  1.57  2.55      59.8        19.0   \n",
      "1   LP02      0      0  42.00   5.74  1.64  3.50      44.3        22.9   \n",
      "2   LP03      0      0  68.42   6.84  1.50  4.56     590.0        15.0   \n",
      "3   LP04      0      0  50.34  10.40  1.94  5.36     808.9        21.9   \n",
      "4   LP05      0      0  81.93   4.95  1.22  4.06     167.0        15.0   \n",
      "\n",
      "   postcCA125  ... CA125r5  PATTERNr6  DATEr6  PFS6  ILP6  TREATMENTr6  \\\n",
      "0        13.3  ...     NaN        NaN     NaT   NaN   NaN          NaN   \n",
      "1        14.8  ...     NaN        NaN     NaT   NaN   NaN          NaN   \n",
      "2        13.0  ...     NaN        NaN     NaT   NaN   NaN          NaN   \n",
      "3        18.0  ...     NaN        NaN     NaT   NaN   NaN          NaN   \n",
      "4         NaN  ...     NaN        NaN     NaT   NaN   NaN          NaN   \n",
      "\n",
      "   RELAPSEc6  SENSITIVITYp6  CA125rn6  CA125r6  \n",
      "0        NaN            NaN       NaN      NaN  \n",
      "1        NaN            NaN       NaN      NaN  \n",
      "2        NaN            NaN       NaN      NaN  \n",
      "3        NaN            NaN       NaN      NaN  \n",
      "4        NaN            NaN       NaN      NaN  \n",
      "\n",
      "[5 rows x 171 columns]\n",
      "The length/number of rows of the BDL dataframe is: 84\n"
     ]
    }
   ],
   "source": [
    "# Read the second excel file with Localized Tumors (BDL)\n",
    "bdl_path='/home/vant/TFM/clinical data/La Paz_LP_series/BDL.xlsx'\n",
    "bdl=pd.read_excel(bdl_path)\n",
    "print(bdl.head())\n",
    "print(\"The length/number of rows of the BDL dataframe is:\", len(bdl)) #84 if only counts the samples data and no the headers"
   ]
  },
  {
   "cell_type": "code",
   "execution_count": 10,
   "id": "8ebc60f4-6f13-4ba2-a9fe-1399f5f9ae20",
   "metadata": {},
   "outputs": [
    {
     "name": "stdout",
     "output_type": "stream",
     "text": [
      "<class 'pandas.core.frame.DataFrame'>\n",
      "RangeIndex: 2 entries, 0 to 1\n",
      "Columns: 166 entries, TUMOR to Unnamed: 165\n",
      "dtypes: float64(2), object(164)\n",
      "memory usage: 2.7+ KB\n",
      "Nombres de las columnas:\n",
      "Index(['TUMOR', 'WT1', 'P53', 'Nap', 'Napc', 'Napsina', 'PGR', 'ARID1A',\n",
      "       'CD3T', 'CD3iT',\n",
      "       ...\n",
      "       'Unnamed: 156', 'Unnamed: 157', 'Unnamed: 158', 'Unnamed: 159',\n",
      "       'Unnamed: 160', 'Unnamed: 161', 'Unnamed: 162', 'Unnamed: 163',\n",
      "       'Unnamed: 164', 'Unnamed: 165'],\n",
      "      dtype='object', length=166)\n",
      "The number of rows in the dataframe 'headers' is: 2\n"
     ]
    }
   ],
   "source": [
    "# Read the file with the headers and legends\n",
    "headers_path= '/home/vant/TFM/clinical data/La Paz_LP_series/Encabezados.xlsx'\n",
    "headers=pd.read_excel(headers_path)\n",
    "# Show the dataFrame\n",
    "headers.info()\n",
    "# Show the name of the columns/headers\n",
    "print(\"Nombres de las columnas:\")\n",
    "print(headers.columns)\n",
    "# Mostrar el número de filas del DataFrame\n",
    "print(\"The number of rows in the dataframe 'headers' is:\", len(headers)) #2, in the third (index 2) are the legends/notation"
   ]
  },
  {
   "cell_type": "code",
   "execution_count": 11,
   "id": "6081ea52-75ef-4605-975d-38df09557250",
   "metadata": {},
   "outputs": [
    {
     "name": "stdout",
     "output_type": "stream",
     "text": [
      "<class 'pandas.core.frame.DataFrame'>\n",
      "  CÓDIGO  FIGOL  TUMOR   AGEY   NEU  LINF    NL  preCa125  postsCA125  \\\n",
      "0   LP06      1      1  61.59  9.31  2.76  3.37       NaN         6.4   \n",
      "1   LP13      1      0  72.91  4.63  1.61  2.88    1644.0       327.0   \n",
      "2   LP19      1      1  67.76   NaN   NaN   NaN       NaN         NaN   \n",
      "3   LP22      1      1  37.84  8.78  1.48  5.93     423.0        11.0   \n",
      "4   LP25      1      0  38.69  8.13  1.75  4.65      60.0        23.0   \n",
      "\n",
      "   postcCA125  ... CA125r6 ILP4 SENSITIVITYp4  CA125rn4  CA125r4 PATTERNr5  \\\n",
      "0         3.0  ...     NaN  NaN           NaN       NaN      NaN       NaN   \n",
      "1        32.5  ...     NaN  NaN           NaN       NaN      NaN       NaN   \n",
      "2         NaN  ...     NaN  NaN           NaN       NaN      NaN       NaN   \n",
      "3         2.0  ...     NaN  NaN           NaN       NaN      NaN       NaN   \n",
      "4        11.0  ...     NaN  NaN           NaN       NaN      NaN       NaN   \n",
      "\n",
      "   DATEr5  PFS5  CA125rn5  CA125r5  \n",
      "0     NaT   NaN       NaN      NaN  \n",
      "1     NaT   NaN       NaN      NaN  \n",
      "2     NaT   NaN       NaN      NaN  \n",
      "3     NaT   NaN       NaN      NaN  \n",
      "4     NaT   NaN       NaN      NaN  \n",
      "\n",
      "[5 rows x 167 columns]\n",
      "The length/number of rows of the new dataframe is: 119\n"
     ]
    }
   ],
   "source": [
    "# Combine data of BDA with BDL. Before doing that I eliminate empty colums. To do that I save the original and the new columns\n",
    "columnas_bda_original = set(bda.columns)\n",
    "columnas_bdl_original = set(bdl.columns)\n",
    "# Eliminate columns totally empty (with NaN data in all rows)\n",
    "bda = bda.dropna(axis=1, how='all')\n",
    "bdl = bdl.dropna(axis=1, how='all')\n",
    "# Create the new columns once filtered\n",
    "columnas_bda_filtradas = set(bda.columns)\n",
    "columnas_bdl_filtradas = set(bdl.columns)\n",
    "# Conmbine data\n",
    "data_combined = pd.concat([bda, bdl], ignore_index=True)\n",
    "print(type(data_combined))\n",
    "print(data_combined.head())\n",
    "print(\"The length/number of rows of the new dataframe is:\", len(data_combined)) # 35+84=119 samples"
   ]
  },
  {
   "cell_type": "code",
   "execution_count": 12,
   "id": "4800abaf-7840-494a-91aa-9ca8e8b3a215",
   "metadata": {
    "scrolled": true
   },
   "outputs": [
    {
     "name": "stdout",
     "output_type": "stream",
     "text": [
      "Columns eliminated in BDA: {'ILP6', 'DATEr5', 'SENSITIVITYp5', 'CA125r4', 'PFS5', 'ILP5', 'CA125rn4', 'SENSITIVITYp4', 'CA125r5', 'ILP4', 'SENSITIVITYp6', 'PATTERNr5', 'CA125rn5'}\n",
      "Columns eliminated in BDL: {'ILP6', 'SENSITIVITYp5', 'CA125rn6', 'PFS6', 'SENSITIVITYp6', 'ILP5', 'CA125r6'}\n"
     ]
    }
   ],
   "source": [
    "# Identify the eliminated columns\n",
    "columnas_eliminadas_bda = columnas_bda_original - columnas_bda_filtradas\n",
    "columnas_eliminadas_bdl = columnas_bdl_original - columnas_bdl_filtradas\n",
    "# Show the eliminated columns\n",
    "print(\"Columns eliminated in BDA:\", columnas_eliminadas_bda)\n",
    "print(\"Columns eliminated in BDL:\", columnas_eliminadas_bdl)"
   ]
  },
  {
   "cell_type": "code",
   "execution_count": 13,
   "id": "5ce6fd32-fd39-445a-93b0-2e2f86d06191",
   "metadata": {},
   "outputs": [
    {
     "name": "stdout",
     "output_type": "stream",
     "text": [
      "0        LP6\n",
      "1       LP13\n",
      "2       LP19\n",
      "3       LP22\n",
      "4       LP25\n",
      "       ...  \n",
      "114    LP115\n",
      "115    LP116\n",
      "116    LP117\n",
      "117    LP119\n",
      "118    LP120\n",
      "Name: CÓDIGO, Length: 119, dtype: object\n",
      "119\n"
     ]
    }
   ],
   "source": [
    "# Eliminate the 0 existing in the name of some samples after LP (when the name starts with LP0+number: LP01,LP02,etc in the column 'CÓDIGO'\n",
    "data_combined['CÓDIGO'] = data_combined['CÓDIGO'].apply(lambda x: 'LP' + x[3:] if x.startswith('LP0') else x)\n",
    "print(data_combined['CÓDIGO'])\n",
    "print(len(data_combined))"
   ]
  },
  {
   "cell_type": "code",
   "execution_count": 14,
   "id": "7a693f35-0aaf-4b59-ad77-572f927ada5d",
   "metadata": {
    "scrolled": true
   },
   "outputs": [
    {
     "name": "stdout",
     "output_type": "stream",
     "text": [
      "    CÓDIGO       DIAG      LASTv  OS_CNIO\n",
      "0      LP6 2002-10-01 2009-10-29   2585.0\n",
      "1     LP13 2013-03-26 2020-01-30   2501.0\n",
      "2     LP19 1999-11-01        NaT      NaN\n",
      "3     LP22 2000-03-01 2020-11-30   7579.0\n",
      "4     LP25 2009-10-08 2020-11-24   4065.0\n",
      "..     ...        ...        ...      ...\n",
      "114  LP115 2005-04-01 2020-07-20   5589.0\n",
      "115  LP116 2005-10-01 2015-05-28   3526.0\n",
      "116  LP117 2006-11-01 2020-09-09   5061.0\n",
      "117  LP119 2009-03-01 2010-01-04    309.0\n",
      "118  LP120 2013-03-01 2014-07-18    504.0\n",
      "\n",
      "[119 rows x 4 columns]\n"
     ]
    }
   ],
   "source": [
    "# Overall survival (OS) must be calculated by us(compare with OS data provided by the hospital later) and added as a \n",
    "# new column called 'OS_CNIO'. To calculate it: date of death/last visit ('LASTv' column)- date of diagnosis('DIAG' column). If one of these dates\n",
    "# Step 1: Convert columns to calculate in date format\n",
    "data_combined['DIAG'] = pd.to_datetime(data_combined['DIAG'], format='%d-%m-%y',errors='coerce')\n",
    "data_combined['LASTv'] = pd.to_datetime(data_combined['LASTv'], format='%d-%m-%y',errors='coerce')\n",
    "# Calculate OS_CNIO in days\n",
    "data_combined['OS_CNIO'] = (data_combined['LASTv'] - data_combined['DIAG']).dt.days\n",
    "# Print the columnas 'DIAG', 'LASTv' and 'OS_CNIO' to verify the results\n",
    "print(data_combined[['CÓDIGO','DIAG', 'LASTv', 'OS_CNIO']]) "
   ]
  },
  {
   "cell_type": "code",
   "execution_count": 15,
   "id": "ca568d01-4ec9-491b-a2c0-c0339c109224",
   "metadata": {},
   "outputs": [
    {
     "name": "stdout",
     "output_type": "stream",
     "text": [
      "    CÓDIGO       DIAG      LASTv  OS_CNIO DATE USED FOR OS\n",
      "0      LP6 2002-10-01 2009-10-29   2585.0                D\n",
      "1     LP13 2013-03-26 2020-01-30   2501.0                D\n",
      "2     LP19 1999-11-01        NaT      NaN                D\n",
      "3     LP22 2000-03-01 2020-11-30   7579.0                D\n",
      "4     LP25 2009-10-08 2020-11-24   4065.0                D\n",
      "..     ...        ...        ...      ...              ...\n",
      "114  LP115 2005-04-01 2020-07-20   5589.0                D\n",
      "115  LP116 2005-10-01 2015-05-28   3526.0                D\n",
      "116  LP117 2006-11-01 2020-09-09   5061.0                D\n",
      "117  LP119 2009-03-01 2010-01-04    309.0                D\n",
      "118  LP120 2013-03-01 2014-07-18    504.0                D\n",
      "\n",
      "[119 rows x 5 columns]\n"
     ]
    }
   ],
   "source": [
    "# For some cohorts we have to use the date of surgery because we don´t have the diagnosis date. To know that we create a tag column\n",
    "# called 'DATE USED FOR OS'. In this case only the date of diagnosis was used so we establish D ('Diagnosis) in all the rows where we \n",
    "# have data in the 'DIAG' column.\n",
    "data_combined['DATE USED FOR OS'] = data_combined['DIAG'].apply(lambda x: 'D' if pd.notnull(x) else 'NA')\n",
    "# Verify \n",
    "print(data_combined[['CÓDIGO', 'DIAG', 'LASTv', 'OS_CNIO', 'DATE USED FOR OS']])"
   ]
  },
  {
   "cell_type": "code",
   "execution_count": 16,
   "id": "c7140388-944e-4429-b495-75ef98c694e8",
   "metadata": {
    "scrolled": true
   },
   "outputs": [
    {
     "name": "stdout",
     "output_type": "stream",
     "text": [
      "RangeIndex(start=0, stop=2, step=1)\n",
      "SUBTYPE                                                   HISTOLOGY\n",
      "AGEY                                                     AGE  YEARS\n",
      "DIFERENTIATION                                           GRADO DIF.\n",
      "FIGO                                                     FIGO STAGE\n",
      "FIGOL                                        LOCALIZADO VS AVANZADO\n",
      "TYPEs                                               TYPE OF SURGERY\n",
      "TYPEc                                            First line regimen\n",
      "RESIDUALs                            Residual Disease AFTER SURGERY\n",
      "CHEMO                             FIRST LINE or adjuvant TREATMENT \n",
      "GENETIC                                               GENETIC STUDY\n",
      "OS                OS. DAYS FROM DIAGNOSIS TO DEATH or LAST KNOWN...\n",
      "DEATH                                                  VITAL STATUS\n",
      "AFS               FAMILIAL ANTECEDENTS OF  COLON, ENDOMETRIAL AN...\n",
      "Name: 0, dtype: object\n"
     ]
    }
   ],
   "source": [
    "# Show the dataframe with the headers and legends\n",
    "print(headers.index)\n",
    "# Headers of interest are saved in a new variable. I include also OS calculated by the hospital to compare with my results\n",
    "headers_seleccionados = ['SUBTYPE', 'AGEY', 'DIFERENTIATION','FIGO','FIGOL','TYPEs','TYPEc','RESIDUALs','CHEMO','GENETIC','OS','DEATH',\n",
    "                        'AFS'] \n",
    "\n",
    "# Filter the selected headers in the headers dataframe (row with index 0)\n",
    "encabezados_seleccionados = headers.loc[0, headers_seleccionados]\n",
    "print(encabezados_seleccionados)"
   ]
  },
  {
   "cell_type": "code",
   "execution_count": 17,
   "id": "30906c7b-2e95-47a2-b787-4b1e860f3792",
   "metadata": {},
   "outputs": [
    {
     "name": "stdout",
     "output_type": "stream",
     "text": [
      "SUBTYPE                                0=endometrioid, 1=clear cell\n",
      "AGEY                                                          YEARS\n",
      "DIFERENTIATION                                    1= G1; 2=G2; 3=G3\n",
      "FIGO              1=IA, 2=IB, 3=IC, 4=I(NOS), 5=IIA, 6=IIB,  8=I...\n",
      "FIGOL                                    0=localizado vs 1=avanzado\n",
      "TYPEs             0=NO SURGERY OR PALIATIVE SURGERY, 1=PRIMARY D...\n",
      "TYPEc             0=Carbo-paclitaxel 1=Cis-paclitaxel iv 2=Cis-p...\n",
      "RESIDUALs         0=no macroscopic disease, 1=macroscopic diseas...\n",
      "CHEMO                                      CHEMOTHERAPY NO=0, YES=1\n",
      "GENETIC            1=not studied; 2=LYNCH; 3= BRCA1/2 mut; 4= st...\n",
      "OS                                                            DAYS \n",
      "DEATH                                           0 = alive, 1 = dead\n",
      "AFS                                                   (No=0, YES=1)\n",
      "Name: 1, dtype: object\n",
      " Length of selected legends is: 13\n"
     ]
    }
   ],
   "source": [
    "# Filter and save selected legends (containing the coding) in the headers dataframe\n",
    "leyendas_seleccionadas = headers.loc[1, headers_seleccionados]  # Legend in index 1 \n",
    "print(leyendas_seleccionadas)\n",
    "print(\" Length of selected legends is:\",len(leyendas_seleccionadas))"
   ]
  },
  {
   "cell_type": "code",
   "execution_count": 18,
   "id": "93059e2d-5b35-4861-95a7-a01deb0f266f",
   "metadata": {},
   "outputs": [
    {
     "name": "stdout",
     "output_type": "stream",
     "text": [
      "  CÓDIGO  FIGO  FIGOL  FIGOa\n",
      "0    LP6    11      1      3\n",
      "1   LP13    13      1      4\n",
      "2   LP19     9      1      3\n",
      "3   LP22    11      1      3\n",
      "4   LP25    12      1      3\n",
      "5   LP34    13      1      4\n"
     ]
    }
   ],
   "source": [
    "# Create FIGOa column( 1= IA, IB, IC, I(NOS); 2=IIA, IIB, II (NOS); 3=IIIA, IIIB, IIIC, III(NOS); 4= IV)\n",
    "# Remember that FIGO stages are: \n",
    "#    'IA': 1, 'IB':2, 'IC':3, 'I':4,'IIA':5, 'IIB':6, \n",
    "#   'II':8,'IIIA':9, 'IIIB':10, 'IIIC':11, 'III':12, 'IV':13\n",
    "# The column 'FIGO' has the latin numbers coding these stages while the 'FIGOL' column values are 1 (advanced: stages III and IV) \n",
    "# or 0 (localized: stages I and II)\n",
    "# Create a dictionary for maping\n",
    "figo_stage_map = {\n",
    "    1: 1, 2: 1, 3: 1, 4: 1, 5: 2, 6: 2, \n",
    "    8: 2, 9: 3, 10: 3, 11: 3, 12: 3, 13: 4\n",
    "}\n",
    "\n",
    "# Map and obtain 'FIGOa' values from 'FIGO' values\n",
    "data_combined['FIGOa'] = data_combined['FIGO'].map(figo_stage_map)\n",
    "# Show columns with FIGO data. \n",
    "print(data_combined[['CÓDIGO','FIGO','FIGOL','FIGOa']].head(6))"
   ]
  },
  {
   "cell_type": "code",
   "execution_count": 19,
   "id": "679b3163-2a3e-4648-a67d-08be7942e828",
   "metadata": {
    "scrolled": true
   },
   "outputs": [
    {
     "name": "stdout",
     "output_type": "stream",
     "text": [
      "Index(['CÓDIGO', 'FIGOL', 'TUMOR', 'AGEY', 'NEU', 'LINF', 'NL', 'preCa125',\n",
      "       'postsCA125', 'postcCA125',\n",
      "       ...\n",
      "       'CA125rn4', 'CA125r4', 'PATTERNr5', 'DATEr5', 'PFS5', 'CA125rn5',\n",
      "       'CA125r5', 'OS_CNIO', 'DATE USED FOR OS', 'FIGOa'],\n",
      "      dtype='object', length=170)\n",
      "Index(['ID_CNIO'], dtype='object')\n"
     ]
    }
   ],
   "source": [
    "# Create a new dataframe for the results called 'resultado' \n",
    "resultado = pd.DataFrame()\n",
    "print(data_combined.columns)\n",
    "# Add the column with samples names(column CÓDIGO in BDA and BDL.xlsx) as the first one in the 'resultado' dataframe\n",
    "resultado['ID_CNIO'] = data_combined.iloc[:, 0]\n",
    "print(resultado.columns)"
   ]
  },
  {
   "cell_type": "code",
   "execution_count": 20,
   "id": "2f6391e7-694c-4b8c-a487-28c980da3b3d",
   "metadata": {
    "scrolled": true
   },
   "outputs": [
    {
     "name": "stdout",
     "output_type": "stream",
     "text": [
      "Index(['ID_CNIO', 'SUBTYPE', 'AGEY', 'DIFERENTIATION', 'FIGO', 'FIGOL',\n",
      "       'TYPEs', 'TYPEc', 'RESIDUALs', 'CHEMO', 'GENETIC', 'OS', 'DEATH', 'AFS',\n",
      "       'OS_CNIO', 'DATE USED FOR OS', 'FIGOa', 'RESIDUALsD'],\n",
      "      dtype='object')\n",
      "\n",
      "\n",
      "<class 'pandas.core.frame.DataFrame'>\n",
      "RangeIndex: 119 entries, 0 to 118\n",
      "Data columns (total 18 columns):\n",
      " #   Column            Non-Null Count  Dtype  \n",
      "---  ------            --------------  -----  \n",
      " 0   ID_CNIO           119 non-null    object \n",
      " 1   SUBTYPE           119 non-null    int64  \n",
      " 2   AGEY              119 non-null    float64\n",
      " 3   DIFERENTIATION    58 non-null     float64\n",
      " 4   FIGO              119 non-null    int64  \n",
      " 5   FIGOL             119 non-null    int64  \n",
      " 6   TYPEs             117 non-null    float64\n",
      " 7   TYPEc             88 non-null     float64\n",
      " 8   RESIDUALs         110 non-null    float64\n",
      " 9   CHEMO             115 non-null    float64\n",
      " 10  GENETIC           118 non-null    float64\n",
      " 11  OS                110 non-null    float64\n",
      " 12  DEATH             112 non-null    float64\n",
      " 13  AFS               107 non-null    float64\n",
      " 14  OS_CNIO           110 non-null    float64\n",
      " 15  DATE USED FOR OS  119 non-null    object \n",
      " 16  FIGOa             119 non-null    int64  \n",
      " 17  RESIDUALsD        110 non-null    float64\n",
      "dtypes: float64(12), int64(4), object(2)\n",
      "memory usage: 16.9+ KB\n",
      "None\n"
     ]
    }
   ],
   "source": [
    "# Add the data of headers and legends to the dataframe with the samples information\n",
    "# Residuals information in 'RESIDUALsD' column are not in the selected headers, nor OS_CNIO nor 'DATE USED FOR OS' nor FIGOa\n",
    "# that has just been calculated\n",
    "# Create a new dataframe ('resultado') containing the information in the columns with the headers of interest \n",
    "for header in headers_seleccionados:\n",
    "    if header in data_combined.columns:\n",
    "        resultado[header] = data_combined[header]\n",
    "\n",
    "# Add the new columns to the 'resultado' dataframe. They will be added after the current columns\n",
    "resultado['OS_CNIO']=data_combined['OS_CNIO']\n",
    "resultado['DATE USED FOR OS']=data_combined['DATE USED FOR OS']\n",
    "resultado['FIGOa'] = data_combined['FIGOa']\n",
    "resultado['RESIDUALsD'] = data_combined['RESIDUALsD']  \n",
    "print(resultado.columns)\n",
    "print(\"\\n\")\n",
    "print(resultado.info())"
   ]
  },
  {
   "cell_type": "code",
   "execution_count": 21,
   "id": "0586fac5-c3a2-463c-9c08-de5511063fc5",
   "metadata": {
    "scrolled": true
   },
   "outputs": [
    {
     "name": "stdout",
     "output_type": "stream",
     "text": [
      "Index(['ID_CNIO', 'SUBTYPE', 'AGEY', 'DIFERENTIATION', 'FIGO', 'FIGOL',\n",
      "       'TYPEs', 'TYPEc', 'RESIDUALs', 'CHEMO', 'GENETIC', 'OS', 'DEATH', 'AFS',\n",
      "       'OS_CNIO', 'DATE USED FOR OS', 'FIGOa', 'RESIDUALsD'],\n",
      "      dtype='object')\n",
      "  ID_CNIO                       SUBTYPE   AGEY     DIFERENTIATION  \\\n",
      "0          0=endometrioid, 1=clear cell  YEARS  1= G1; 2=G2; 3=G3   \n",
      "\n",
      "                                                FIGO  \\\n",
      "0  1=IA, 2=IB, 3=IC, 4=I(NOS), 5=IIA, 6=IIB,  8=I...   \n",
      "\n",
      "                         FIGOL  \\\n",
      "0   0=localizado vs 1=avanzado   \n",
      "\n",
      "                                               TYPEs  \\\n",
      "0  0=NO SURGERY OR PALIATIVE SURGERY, 1=PRIMARY D...   \n",
      "\n",
      "                                               TYPEc  \\\n",
      "0  0=Carbo-paclitaxel 1=Cis-paclitaxel iv 2=Cis-p...   \n",
      "\n",
      "                                           RESIDUALs  \\\n",
      "0  0=no macroscopic disease, 1=macroscopic diseas...   \n",
      "\n",
      "                      CHEMO  \\\n",
      "0  CHEMOTHERAPY NO=0, YES=1   \n",
      "\n",
      "                                             GENETIC     OS  \\\n",
      "0   1=not studied; 2=LYNCH; 3= BRCA1/2 mut; 4= st...  DAYS    \n",
      "\n",
      "                 DEATH            AFS                   OS_CNIO  \\\n",
      "0  0 = alive, 1 = dead  (No=0, YES=1)  Overall Survival in Days   \n",
      "\n",
      "                                    DATE USED FOR OS        FIGOa  \\\n",
      "0  D=diagnosis date used for OS, S=surgery date u...  I,II,III,IV   \n",
      "\n",
      "                                      RESIDUALsD  \n",
      "0  0=No residual disease, 1=Yes residual disease  \n"
     ]
    }
   ],
   "source": [
    "# Create a legends dataframe establishing the columns of the final dataframe previously created\n",
    "leyenda_df = pd.DataFrame(columns=resultado.columns)\n",
    "print(leyenda_df.columns)\n",
    "# Add the legends content below the name of the columns ordered according to the order in the final dataframe (see resultado.info() to \n",
    "# see the order)\n",
    "leyenda_df.loc[0] = [''] + list(leyendas_seleccionadas) + ['Overall Survival in Days'] + ['D=diagnosis date used for OS, S=surgery date used for OS, NA=unknown']+['I,II,III,IV']+['0=No residual disease, 1=Yes residual disease']\n",
    "print(leyenda_df)"
   ]
  },
  {
   "cell_type": "code",
   "execution_count": 22,
   "id": "0f1dc508-72f2-4692-bcb3-cb94a8e1a02f",
   "metadata": {},
   "outputs": [
    {
     "name": "stdout",
     "output_type": "stream",
     "text": [
      "    ID_CNIO                       SUBTYPE   AGEY     DIFERENTIATION  \\\n",
      "0            0=endometrioid, 1=clear cell  YEARS  1= G1; 2=G2; 3=G3   \n",
      "1       LP6                             0  61.59                3.0   \n",
      "2      LP13                             0  72.91                2.0   \n",
      "3      LP19                             0  67.76                2.0   \n",
      "4      LP22                             0  37.84                2.0   \n",
      "..      ...                           ...    ...                ...   \n",
      "115   LP115                             1  46.84                NaN   \n",
      "116   LP116                             1  48.59                NaN   \n",
      "117   LP117                             1  40.34                NaN   \n",
      "118   LP119                             1  81.61                NaN   \n",
      "119   LP120                             1  48.84                NaN   \n",
      "\n",
      "                                                  FIGO  \\\n",
      "0    1=IA, 2=IB, 3=IC, 4=I(NOS), 5=IIA, 6=IIB,  8=I...   \n",
      "1                                                   11   \n",
      "2                                                   13   \n",
      "3                                                    9   \n",
      "4                                                   11   \n",
      "..                                                 ...   \n",
      "115                                                  3   \n",
      "116                                                  3   \n",
      "117                                                  1   \n",
      "118                                                  3   \n",
      "119                                                  3   \n",
      "\n",
      "                           FIGOL  \\\n",
      "0     0=localizado vs 1=avanzado   \n",
      "1                              1   \n",
      "2                              1   \n",
      "3                              1   \n",
      "4                              1   \n",
      "..                           ...   \n",
      "115                            0   \n",
      "116                            0   \n",
      "117                            0   \n",
      "118                            0   \n",
      "119                            0   \n",
      "\n",
      "                                                 TYPEs  \\\n",
      "0    0=NO SURGERY OR PALIATIVE SURGERY, 1=PRIMARY D...   \n",
      "1                                                  1.0   \n",
      "2                                                  2.0   \n",
      "3                                                  NaN   \n",
      "4                                                  1.0   \n",
      "..                                                 ...   \n",
      "115                                                1.0   \n",
      "116                                                1.0   \n",
      "117                                                1.0   \n",
      "118                                                1.0   \n",
      "119                                                1.0   \n",
      "\n",
      "                                                 TYPEc  \\\n",
      "0    0=Carbo-paclitaxel 1=Cis-paclitaxel iv 2=Cis-p...   \n",
      "1                                                  0.0   \n",
      "2                                                  0.0   \n",
      "3                                                  NaN   \n",
      "4                                                  0.0   \n",
      "..                                                 ...   \n",
      "115                                                0.0   \n",
      "116                                                0.0   \n",
      "117                                                NaN   \n",
      "118                                                3.0   \n",
      "119                                                0.0   \n",
      "\n",
      "                                             RESIDUALs  \\\n",
      "0    0=no macroscopic disease, 1=macroscopic diseas...   \n",
      "1                                                  0.0   \n",
      "2                                                  0.0   \n",
      "3                                                  NaN   \n",
      "4                                                  0.0   \n",
      "..                                                 ...   \n",
      "115                                                0.0   \n",
      "116                                                0.0   \n",
      "117                                                0.0   \n",
      "118                                                0.0   \n",
      "119                                                0.0   \n",
      "\n",
      "                        CHEMO  \\\n",
      "0    CHEMOTHERAPY NO=0, YES=1   \n",
      "1                         1.0   \n",
      "2                         1.0   \n",
      "3                         NaN   \n",
      "4                         1.0   \n",
      "..                        ...   \n",
      "115                       1.0   \n",
      "116                       1.0   \n",
      "117                       0.0   \n",
      "118                       1.0   \n",
      "119                       1.0   \n",
      "\n",
      "                                               GENETIC      OS  \\\n",
      "0     1=not studied; 2=LYNCH; 3= BRCA1/2 mut; 4= st...   DAYS    \n",
      "1                                                  1.0  2585.0   \n",
      "2                                                  4.0  2312.0   \n",
      "3                                                  1.0     NaN   \n",
      "4                                                  1.0  7579.0   \n",
      "..                                                 ...     ...   \n",
      "115                                                1.0  5589.0   \n",
      "116                                                1.0  3526.0   \n",
      "117                                                4.0  5061.0   \n",
      "118                                                1.0   309.0   \n",
      "119                                                1.0   504.0   \n",
      "\n",
      "                   DEATH            AFS                   OS_CNIO  \\\n",
      "0    0 = alive, 1 = dead  (No=0, YES=1)  Overall Survival in Days   \n",
      "1                    1.0            1.0                    2585.0   \n",
      "2                    0.0            0.0                    2501.0   \n",
      "3                    NaN            NaN                       NaN   \n",
      "4                    0.0            1.0                    7579.0   \n",
      "..                   ...            ...                       ...   \n",
      "115                  0.0            0.0                    5589.0   \n",
      "116                  0.0            1.0                    3526.0   \n",
      "117                  0.0            1.0                    5061.0   \n",
      "118                  1.0            0.0                     309.0   \n",
      "119                  0.0            0.0                     504.0   \n",
      "\n",
      "                                      DATE USED FOR OS        FIGOa  \\\n",
      "0    D=diagnosis date used for OS, S=surgery date u...  I,II,III,IV   \n",
      "1                                                    D            3   \n",
      "2                                                    D            4   \n",
      "3                                                    D            3   \n",
      "4                                                    D            3   \n",
      "..                                                 ...          ...   \n",
      "115                                                  D            1   \n",
      "116                                                  D            1   \n",
      "117                                                  D            1   \n",
      "118                                                  D            1   \n",
      "119                                                  D            1   \n",
      "\n",
      "                                        RESIDUALsD  \n",
      "0    0=No residual disease, 1=Yes residual disease  \n",
      "1                                              0.0  \n",
      "2                                              0.0  \n",
      "3                                              NaN  \n",
      "4                                              0.0  \n",
      "..                                             ...  \n",
      "115                                            0.0  \n",
      "116                                            0.0  \n",
      "117                                            0.0  \n",
      "118                                            0.0  \n",
      "119                                            0.0  \n",
      "\n",
      "[120 rows x 18 columns]\n"
     ]
    }
   ],
   "source": [
    "# Concatenate legends to samples data\n",
    "resultado_final = pd.concat([leyenda_df, resultado], ignore_index=True)\n",
    "# Show the definitive dataframe\n",
    "print(resultado_final)"
   ]
  },
  {
   "cell_type": "code",
   "execution_count": 23,
   "id": "4a61e29b-6f9c-49bd-86f1-212eb04783f0",
   "metadata": {},
   "outputs": [],
   "source": [
    "# Export the DataFrame to an Excel file\n",
    "output_path = '/home/vant/TFM/LP_bbdd_filtered1.xlsx'\n",
    "resultado_final.to_excel(output_path, index=False)"
   ]
  }
 ],
 "metadata": {
  "kernelspec": {
   "display_name": "Python 3 (ipykernel)",
   "language": "python",
   "name": "python3"
  },
  "language_info": {
   "codemirror_mode": {
    "name": "ipython",
    "version": 3
   },
   "file_extension": ".py",
   "mimetype": "text/x-python",
   "name": "python",
   "nbconvert_exporter": "python",
   "pygments_lexer": "ipython3",
   "version": "3.10.12"
  }
 },
 "nbformat": 4,
 "nbformat_minor": 5
}
